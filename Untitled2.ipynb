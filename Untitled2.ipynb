{
  "nbformat": 4,
  "nbformat_minor": 0,
  "metadata": {
    "colab": {
      "provenance": [],
      "authorship_tag": "ABX9TyM2VBrOAhMzStSr6qfP7ou2",
      "include_colab_link": true
    },
    "kernelspec": {
      "name": "python3",
      "display_name": "Python 3"
    },
    "language_info": {
      "name": "python"
    }
  },
  "cells": [
    {
      "cell_type": "markdown",
      "metadata": {
        "id": "view-in-github",
        "colab_type": "text"
      },
      "source": [
        "<a href=\"https://colab.research.google.com/github/minions45/CRSEVEN/blob/main/Untitled2.ipynb\" target=\"_parent\"><img src=\"https://colab.research.google.com/assets/colab-badge.svg\" alt=\"Open In Colab\"/></a>"
      ]
    },
    {
      "cell_type": "code",
      "execution_count": 10,
      "metadata": {
        "colab": {
          "base_uri": "https://localhost:8080/"
        },
        "id": "NVhuLYppFNQD",
        "outputId": "5c9ab7e8-aeb7-4ea8-e34c-b7ed8dab8273"
      },
      "outputs": [
        {
          "output_type": "stream",
          "name": "stdout",
          "text": [
            "[2, 3, 4, 5, 7]\n"
          ]
        }
      ],
      "source": [
        "list= [2,3,4,5]                # List is a built in data type which stores multiple datatypes or data value.\n",
        "list.append(7)                 # List function 1) list.append which is use to add a value to end of list\n",
        "print(list)                    #Eg 1)\n"
      ]
    },
    {
      "cell_type": "code",
      "source": [
        "names = [\"Hrushikesh surname is\"]    #Eg 2)\n",
        "names.append(\"Kirpekar\")\n",
        "print(names)"
      ],
      "metadata": {
        "colab": {
          "base_uri": "https://localhost:8080/"
        },
        "id": "_0QmSEqRHxvd",
        "outputId": "4dac19d9-1b40-445c-f70c-4d712ccef9c6"
      },
      "execution_count": 11,
      "outputs": [
        {
          "output_type": "stream",
          "name": "stdout",
          "text": [
            "['Hrushikesh surname is', 'Kirpekar']\n"
          ]
        }
      ]
    },
    {
      "cell_type": "code",
      "source": [
        "list= [6,5,4,3,2,1]         # list function 2) list.reverse\n",
        "list.reverse()              # which is use to reverse a list\n",
        "print(list)"
      ],
      "metadata": {
        "colab": {
          "base_uri": "https://localhost:8080/"
        },
        "id": "hmfCFz6OIWkm",
        "outputId": "04683e95-4d00-4379-a657-eefb04958b92"
      },
      "execution_count": 16,
      "outputs": [
        {
          "output_type": "stream",
          "name": "stdout",
          "text": [
            "[1, 2, 3, 4, 5, 6]\n"
          ]
        }
      ]
    },
    {
      "cell_type": "code",
      "source": [
        "list= [\"kirpekar hrushikesh\"]\n",
        "list.sort()\n",
        "print(list)"
      ],
      "metadata": {
        "colab": {
          "base_uri": "https://localhost:8080/"
        },
        "id": "zVXmJS6iKM_G",
        "outputId": "0b69854f-0afd-47e0-8451-4adac0027757"
      },
      "execution_count": 29,
      "outputs": [
        {
          "output_type": "stream",
          "name": "stdout",
          "text": [
            "['kirpekar hrushikesh']\n"
          ]
        }
      ]
    }
  ]
}